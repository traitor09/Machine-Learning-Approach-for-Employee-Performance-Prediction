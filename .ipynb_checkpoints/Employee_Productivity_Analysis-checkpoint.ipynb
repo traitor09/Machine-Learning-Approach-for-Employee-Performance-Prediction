{
 "cells": [
  {
   "cell_type": "markdown",
   "id": "84966fe9d6c942a7",
   "metadata": {},
   "source": [
    "## Importing the libraries"
   ]
  },
  {
   "cell_type": "code",
   "execution_count": 179,
   "id": "985b9f7993760282",
   "metadata": {
    "ExecuteTime": {
     "end_time": "2025-03-02T12:33:49.879313Z",
     "start_time": "2025-03-02T12:33:49.867479Z"
    }
   },
   "outputs": [],
   "source": [
    "import pandas as pd\n",
    "import matplotlib.pyplot as plt\n",
    "import seaborn as sns\n",
    "from sklearn.preprocessing import LabelEncoder\n",
    "from sklearn.linear_model import LinearRegression\n",
    "from sklearn.model_selection import train_test_split\n",
    "from sklearn.ensemble import RandomForestRegressor\n",
    "import xgboost as xgb\n",
    "from sklearn.metrics import mean_absolute_error, mean_squared_error, r2_score\n"
   ]
  },
  {
   "cell_type": "markdown",
   "id": "3e782e708f7cc4d2",
   "metadata": {},
   "source": [
    "## Data Sets"
   ]
  },
  {
   "cell_type": "code",
   "execution_count": null,
   "id": "5492eb2e21435d70",
   "metadata": {
    "ExecuteTime": {
     "end_time": "2025-03-02T12:33:49.970045Z",
     "start_time": "2025-03-02T12:33:49.917157Z"
    }
   },
   "outputs": [
    {
     "data": {
      "text/html": [
       "<div>\n",
       "<style scoped>\n",
       "    .dataframe tbody tr th:only-of-type {\n",
       "        vertical-align: middle;\n",
       "    }\n",
       "\n",
       "    .dataframe tbody tr th {\n",
       "        vertical-align: top;\n",
       "    }\n",
       "\n",
       "    .dataframe thead th {\n",
       "        text-align: right;\n",
       "    }\n",
       "</style>\n",
       "<table border=\"1\" class=\"dataframe\">\n",
       "  <thead>\n",
       "    <tr style=\"text-align: right;\">\n",
       "      <th></th>\n",
       "      <th>date</th>\n",
       "      <th>quarter</th>\n",
       "      <th>department</th>\n",
       "      <th>day</th>\n",
       "      <th>team</th>\n",
       "      <th>targeted_productivity</th>\n",
       "      <th>smv</th>\n",
       "      <th>over_time</th>\n",
       "      <th>incentive</th>\n",
       "      <th>idle_time</th>\n",
       "      <th>idle_men</th>\n",
       "      <th>no_of_style_change</th>\n",
       "      <th>no_of_workers</th>\n",
       "      <th>actual_productivity</th>\n",
       "    </tr>\n",
       "  </thead>\n",
       "  <tbody>\n",
       "    <tr>\n",
       "      <th>0</th>\n",
       "      <td>1/1/2015</td>\n",
       "      <td>Quarter1</td>\n",
       "      <td>sweing</td>\n",
       "      <td>Thursday</td>\n",
       "      <td>8</td>\n",
       "      <td>0.80</td>\n",
       "      <td>26.16</td>\n",
       "      <td>7080</td>\n",
       "      <td>98</td>\n",
       "      <td>0.0</td>\n",
       "      <td>0</td>\n",
       "      <td>0</td>\n",
       "      <td>59.0</td>\n",
       "      <td>0.940725</td>\n",
       "    </tr>\n",
       "    <tr>\n",
       "      <th>1</th>\n",
       "      <td>1/1/2015</td>\n",
       "      <td>Quarter1</td>\n",
       "      <td>finishing</td>\n",
       "      <td>Thursday</td>\n",
       "      <td>1</td>\n",
       "      <td>0.75</td>\n",
       "      <td>3.94</td>\n",
       "      <td>960</td>\n",
       "      <td>0</td>\n",
       "      <td>0.0</td>\n",
       "      <td>0</td>\n",
       "      <td>0</td>\n",
       "      <td>8.0</td>\n",
       "      <td>0.886500</td>\n",
       "    </tr>\n",
       "    <tr>\n",
       "      <th>2</th>\n",
       "      <td>1/1/2015</td>\n",
       "      <td>Quarter1</td>\n",
       "      <td>sweing</td>\n",
       "      <td>Thursday</td>\n",
       "      <td>11</td>\n",
       "      <td>0.80</td>\n",
       "      <td>11.41</td>\n",
       "      <td>3660</td>\n",
       "      <td>50</td>\n",
       "      <td>0.0</td>\n",
       "      <td>0</td>\n",
       "      <td>0</td>\n",
       "      <td>30.5</td>\n",
       "      <td>0.800570</td>\n",
       "    </tr>\n",
       "    <tr>\n",
       "      <th>3</th>\n",
       "      <td>1/1/2015</td>\n",
       "      <td>Quarter1</td>\n",
       "      <td>sweing</td>\n",
       "      <td>Thursday</td>\n",
       "      <td>12</td>\n",
       "      <td>0.80</td>\n",
       "      <td>11.41</td>\n",
       "      <td>3660</td>\n",
       "      <td>50</td>\n",
       "      <td>0.0</td>\n",
       "      <td>0</td>\n",
       "      <td>0</td>\n",
       "      <td>30.5</td>\n",
       "      <td>0.800570</td>\n",
       "    </tr>\n",
       "    <tr>\n",
       "      <th>4</th>\n",
       "      <td>1/1/2015</td>\n",
       "      <td>Quarter1</td>\n",
       "      <td>sweing</td>\n",
       "      <td>Thursday</td>\n",
       "      <td>6</td>\n",
       "      <td>0.80</td>\n",
       "      <td>25.90</td>\n",
       "      <td>1920</td>\n",
       "      <td>50</td>\n",
       "      <td>0.0</td>\n",
       "      <td>0</td>\n",
       "      <td>0</td>\n",
       "      <td>56.0</td>\n",
       "      <td>0.800382</td>\n",
       "    </tr>\n",
       "    <tr>\n",
       "      <th>5</th>\n",
       "      <td>1/1/2015</td>\n",
       "      <td>Quarter1</td>\n",
       "      <td>sweing</td>\n",
       "      <td>Thursday</td>\n",
       "      <td>7</td>\n",
       "      <td>0.80</td>\n",
       "      <td>25.90</td>\n",
       "      <td>6720</td>\n",
       "      <td>38</td>\n",
       "      <td>0.0</td>\n",
       "      <td>0</td>\n",
       "      <td>0</td>\n",
       "      <td>56.0</td>\n",
       "      <td>0.800125</td>\n",
       "    </tr>\n",
       "    <tr>\n",
       "      <th>6</th>\n",
       "      <td>1/1/2015</td>\n",
       "      <td>Quarter1</td>\n",
       "      <td>finishing</td>\n",
       "      <td>Thursday</td>\n",
       "      <td>2</td>\n",
       "      <td>0.75</td>\n",
       "      <td>3.94</td>\n",
       "      <td>960</td>\n",
       "      <td>0</td>\n",
       "      <td>0.0</td>\n",
       "      <td>0</td>\n",
       "      <td>0</td>\n",
       "      <td>8.0</td>\n",
       "      <td>0.755167</td>\n",
       "    </tr>\n",
       "    <tr>\n",
       "      <th>7</th>\n",
       "      <td>1/1/2015</td>\n",
       "      <td>Quarter1</td>\n",
       "      <td>sweing</td>\n",
       "      <td>Thursday</td>\n",
       "      <td>3</td>\n",
       "      <td>0.75</td>\n",
       "      <td>28.08</td>\n",
       "      <td>6900</td>\n",
       "      <td>45</td>\n",
       "      <td>0.0</td>\n",
       "      <td>0</td>\n",
       "      <td>0</td>\n",
       "      <td>57.5</td>\n",
       "      <td>0.753683</td>\n",
       "    </tr>\n",
       "    <tr>\n",
       "      <th>8</th>\n",
       "      <td>1/1/2015</td>\n",
       "      <td>Quarter1</td>\n",
       "      <td>sweing</td>\n",
       "      <td>Thursday</td>\n",
       "      <td>2</td>\n",
       "      <td>0.75</td>\n",
       "      <td>19.87</td>\n",
       "      <td>6000</td>\n",
       "      <td>34</td>\n",
       "      <td>0.0</td>\n",
       "      <td>0</td>\n",
       "      <td>0</td>\n",
       "      <td>55.0</td>\n",
       "      <td>0.753098</td>\n",
       "    </tr>\n",
       "    <tr>\n",
       "      <th>9</th>\n",
       "      <td>1/1/2015</td>\n",
       "      <td>Quarter1</td>\n",
       "      <td>sweing</td>\n",
       "      <td>Thursday</td>\n",
       "      <td>1</td>\n",
       "      <td>0.75</td>\n",
       "      <td>28.08</td>\n",
       "      <td>6900</td>\n",
       "      <td>45</td>\n",
       "      <td>0.0</td>\n",
       "      <td>0</td>\n",
       "      <td>0</td>\n",
       "      <td>57.5</td>\n",
       "      <td>0.750428</td>\n",
       "    </tr>\n",
       "  </tbody>\n",
       "</table>\n",
       "</div>"
      ],
      "text/plain": [
       "       date   quarter  department       day  team  targeted_productivity  \\\n",
       "0  1/1/2015  Quarter1      sweing  Thursday     8                   0.80   \n",
       "1  1/1/2015  Quarter1  finishing   Thursday     1                   0.75   \n",
       "2  1/1/2015  Quarter1      sweing  Thursday    11                   0.80   \n",
       "3  1/1/2015  Quarter1      sweing  Thursday    12                   0.80   \n",
       "4  1/1/2015  Quarter1      sweing  Thursday     6                   0.80   \n",
       "5  1/1/2015  Quarter1      sweing  Thursday     7                   0.80   \n",
       "6  1/1/2015  Quarter1  finishing   Thursday     2                   0.75   \n",
       "7  1/1/2015  Quarter1      sweing  Thursday     3                   0.75   \n",
       "8  1/1/2015  Quarter1      sweing  Thursday     2                   0.75   \n",
       "9  1/1/2015  Quarter1      sweing  Thursday     1                   0.75   \n",
       "\n",
       "     smv  over_time  incentive  idle_time  idle_men  no_of_style_change  \\\n",
       "0  26.16       7080         98        0.0         0                   0   \n",
       "1   3.94        960          0        0.0         0                   0   \n",
       "2  11.41       3660         50        0.0         0                   0   \n",
       "3  11.41       3660         50        0.0         0                   0   \n",
       "4  25.90       1920         50        0.0         0                   0   \n",
       "5  25.90       6720         38        0.0         0                   0   \n",
       "6   3.94        960          0        0.0         0                   0   \n",
       "7  28.08       6900         45        0.0         0                   0   \n",
       "8  19.87       6000         34        0.0         0                   0   \n",
       "9  28.08       6900         45        0.0         0                   0   \n",
       "\n",
       "   no_of_workers  actual_productivity  \n",
       "0           59.0             0.940725  \n",
       "1            8.0             0.886500  \n",
       "2           30.5             0.800570  \n",
       "3           30.5             0.800570  \n",
       "4           56.0             0.800382  \n",
       "5           56.0             0.800125  \n",
       "6            8.0             0.755167  \n",
       "7           57.5             0.753683  \n",
       "8           55.0             0.753098  \n",
       "9           57.5             0.750428  "
      ]
     },
     "execution_count": 180,
     "metadata": {},
     "output_type": "execute_result"
    }
   ],
   "source": [
    "df = pd.read_csv(\"datasets/garments_worker_productivity.csv\")\n",
    "df = df.drop(columns=['wip'])\n",
    "df.head(10)"
   ]
  },
  {
   "cell_type": "markdown",
   "id": "e4028dac56cce421",
   "metadata": {},
   "source": [
    "## Correlation analysis"
   ]
  },
  {
   "cell_type": "code",
   "execution_count": null,
   "id": "f550f3d59c2df763",
   "metadata": {
    "ExecuteTime": {
     "end_time": "2025-03-02T12:33:51.408941Z",
     "start_time": "2025-03-02T12:33:50.112452Z"
    }
   },
   "outputs": [
    {
     "data": {
      "image/png": "[encoded data removed]",
      "text/plain": [
       "<Figure size 1000x800 with 2 Axes>"
      ]
     },
     "metadata": {},
     "output_type": "display_data"
    }
   ],
   "source": [
    "numeric_df = df.select_dtypes(include=['number'])\n",
    "correlation_matrix = numeric_df.corr()\n",
    "plt.figure(figsize=(10, 8))  # Set the figure size\n",
    "sns.heatmap(correlation_matrix, annot=True, cmap='coolwarm')\n",
    "plt.title(\"Correlation Matrix Heatmap\")\n",
    "plt.show()"
   ]
  },
  {
   "cell_type": "markdown",
   "id": "bbaa8c91a89d3987",
   "metadata": {},
   "source": [
    "## Descriptive analysis"
   ]
  },
  {
   "cell_type": "code",
   "execution_count": null,
   "id": "35ed7f63a7ddd966",
   "metadata": {
    "ExecuteTime": {
     "end_time": "2025-03-02T12:33:51.537508Z",
     "start_time": "2025-03-02T12:33:51.480706Z"
    }
   },
   "outputs": [
    {
     "data": {
      "text/html": [
       "<div>\n",
       "<style scoped>\n",
       "    .dataframe tbody tr th:only-of-type {\n",
       "        vertical-align: middle;\n",
       "    }\n",
       "\n",
       "    .dataframe tbody tr th {\n",
       "        vertical-align: top;\n",
       "    }\n",
       "\n",
       "    .dataframe thead th {\n",
       "        text-align: right;\n",
       "    }\n",
       "</style>\n",
       "<table border=\"1\" class=\"dataframe\">\n",
       "  <thead>\n",
       "    <tr style=\"text-align: right;\">\n",
       "      <th></th>\n",
       "      <th>team</th>\n",
       "      <th>targeted_productivity</th>\n",
       "      <th>smv</th>\n",
       "      <th>over_time</th>\n",
       "      <th>incentive</th>\n",
       "      <th>idle_time</th>\n",
       "      <th>idle_men</th>\n",
       "      <th>no_of_style_change</th>\n",
       "      <th>no_of_workers</th>\n",
       "      <th>actual_productivity</th>\n",
       "    </tr>\n",
       "  </thead>\n",
       "  <tbody>\n",
       "    <tr>\n",
       "      <th>count</th>\n",
       "      <td>1197.000000</td>\n",
       "      <td>1197.000000</td>\n",
       "      <td>1197.000000</td>\n",
       "      <td>1197.000000</td>\n",
       "      <td>1197.000000</td>\n",
       "      <td>1197.000000</td>\n",
       "      <td>1197.000000</td>\n",
       "      <td>1197.000000</td>\n",
       "      <td>1197.000000</td>\n",
       "      <td>1197.000000</td>\n",
       "    </tr>\n",
       "    <tr>\n",
       "      <th>mean</th>\n",
       "      <td>6.426901</td>\n",
       "      <td>0.729632</td>\n",
       "      <td>15.062172</td>\n",
       "      <td>4567.460317</td>\n",
       "      <td>38.210526</td>\n",
       "      <td>0.730159</td>\n",
       "      <td>0.369256</td>\n",
       "      <td>0.150376</td>\n",
       "      <td>34.609858</td>\n",
       "      <td>0.735091</td>\n",
       "    </tr>\n",
       "    <tr>\n",
       "      <th>std</th>\n",
       "      <td>3.463963</td>\n",
       "      <td>0.097891</td>\n",
       "      <td>10.943219</td>\n",
       "      <td>3348.823563</td>\n",
       "      <td>160.182643</td>\n",
       "      <td>12.709757</td>\n",
       "      <td>3.268987</td>\n",
       "      <td>0.427848</td>\n",
       "      <td>22.197687</td>\n",
       "      <td>0.174488</td>\n",
       "    </tr>\n",
       "    <tr>\n",
       "      <th>min</th>\n",
       "      <td>1.000000</td>\n",
       "      <td>0.070000</td>\n",
       "      <td>2.900000</td>\n",
       "      <td>0.000000</td>\n",
       "      <td>0.000000</td>\n",
       "      <td>0.000000</td>\n",
       "      <td>0.000000</td>\n",
       "      <td>0.000000</td>\n",
       "      <td>2.000000</td>\n",
       "      <td>0.233705</td>\n",
       "    </tr>\n",
       "    <tr>\n",
       "      <th>25%</th>\n",
       "      <td>3.000000</td>\n",
       "      <td>0.700000</td>\n",
       "      <td>3.940000</td>\n",
       "      <td>1440.000000</td>\n",
       "      <td>0.000000</td>\n",
       "      <td>0.000000</td>\n",
       "      <td>0.000000</td>\n",
       "      <td>0.000000</td>\n",
       "      <td>9.000000</td>\n",
       "      <td>0.650307</td>\n",
       "    </tr>\n",
       "    <tr>\n",
       "      <th>50%</th>\n",
       "      <td>6.000000</td>\n",
       "      <td>0.750000</td>\n",
       "      <td>15.260000</td>\n",
       "      <td>3960.000000</td>\n",
       "      <td>0.000000</td>\n",
       "      <td>0.000000</td>\n",
       "      <td>0.000000</td>\n",
       "      <td>0.000000</td>\n",
       "      <td>34.000000</td>\n",
       "      <td>0.773333</td>\n",
       "    </tr>\n",
       "    <tr>\n",
       "      <th>75%</th>\n",
       "      <td>9.000000</td>\n",
       "      <td>0.800000</td>\n",
       "      <td>24.260000</td>\n",
       "      <td>6960.000000</td>\n",
       "      <td>50.000000</td>\n",
       "      <td>0.000000</td>\n",
       "      <td>0.000000</td>\n",
       "      <td>0.000000</td>\n",
       "      <td>57.000000</td>\n",
       "      <td>0.850253</td>\n",
       "    </tr>\n",
       "    <tr>\n",
       "      <th>max</th>\n",
       "      <td>12.000000</td>\n",
       "      <td>0.800000</td>\n",
       "      <td>54.560000</td>\n",
       "      <td>25920.000000</td>\n",
       "      <td>3600.000000</td>\n",
       "      <td>300.000000</td>\n",
       "      <td>45.000000</td>\n",
       "      <td>2.000000</td>\n",
       "      <td>89.000000</td>\n",
       "      <td>1.120437</td>\n",
       "    </tr>\n",
       "  </tbody>\n",
       "</table>\n",
       "</div>"
      ],
      "text/plain": [
       "              team  targeted_productivity          smv     over_time  \\\n",
       "count  1197.000000            1197.000000  1197.000000   1197.000000   \n",
       "mean      6.426901               0.729632    15.062172   4567.460317   \n",
       "std       3.463963               0.097891    10.943219   3348.823563   \n",
       "min       1.000000               0.070000     2.900000      0.000000   \n",
       "25%       3.000000               0.700000     3.940000   1440.000000   \n",
       "50%       6.000000               0.750000    15.260000   3960.000000   \n",
       "75%       9.000000               0.800000    24.260000   6960.000000   \n",
       "max      12.000000               0.800000    54.560000  25920.000000   \n",
       "\n",
       "         incentive    idle_time     idle_men  no_of_style_change  \\\n",
       "count  1197.000000  1197.000000  1197.000000         1197.000000   \n",
       "mean     38.210526     0.730159     0.369256            0.150376   \n",
       "std     160.182643    12.709757     3.268987            0.427848   \n",
       "min       0.000000     0.000000     0.000000            0.000000   \n",
       "25%       0.000000     0.000000     0.000000            0.000000   \n",
       "50%       0.000000     0.000000     0.000000            0.000000   \n",
       "75%      50.000000     0.000000     0.000000            0.000000   \n",
       "max    3600.000000   300.000000    45.000000            2.000000   \n",
       "\n",
       "       no_of_workers  actual_productivity  \n",
       "count    1197.000000          1197.000000  \n",
       "mean       34.609858             0.735091  \n",
       "std        22.197687             0.174488  \n",
       "min         2.000000             0.233705  \n",
       "25%         9.000000             0.650307  \n",
       "50%        34.000000             0.773333  \n",
       "75%        57.000000             0.850253  \n",
       "max        89.000000             1.120437  "
      ]
     },
     "execution_count": 182,
     "metadata": {},
     "output_type": "execute_result"
    }
   ],
   "source": [
    "df.describe()"
   ]
  },
  {
   "cell_type": "markdown",
   "id": "d4348dad8f12f5da",
   "metadata": {},
   "source": [
    "## Checking for null values"
   ]
  },
  {
   "cell_type": "code",
   "execution_count": null,
   "id": "aa44ce2c16933248",
   "metadata": {
    "ExecuteTime": {
     "end_time": "2025-03-02T12:33:51.653792Z",
     "start_time": "2025-03-02T12:33:51.642381Z"
    }
   },
   "outputs": [
    {
     "name": "stdout",
     "output_type": "stream",
     "text": [
      "date                     0\n",
      "quarter                  0\n",
      "department               0\n",
      "day                      0\n",
      "team                     0\n",
      "targeted_productivity    0\n",
      "smv                      0\n",
      "over_time                0\n",
      "incentive                0\n",
      "idle_time                0\n",
      "idle_men                 0\n",
      "no_of_style_change       0\n",
      "no_of_workers            0\n",
      "actual_productivity      0\n",
      "dtype: int64\n"
     ]
    }
   ],
   "source": [
    "null_values = df.isnull().sum()\n",
    "print(null_values)"
   ]
  },
  {
   "cell_type": "code",
   "execution_count": null,
   "id": "3918b12579483f90",
   "metadata": {
    "ExecuteTime": {
     "end_time": "2025-03-02T12:33:51.760816Z",
     "start_time": "2025-03-02T12:33:51.745755Z"
    }
   },
   "outputs": [],
   "source": [
    "df['date'] = pd.to_datetime(df['date'], errors='coerce')"
   ]
  },
  {
   "cell_type": "code",
   "execution_count": null,
   "id": "d83d73fd4206c7aa",
   "metadata": {
    "ExecuteTime": {
     "end_time": "2025-03-02T12:33:51.858102Z",
     "start_time": "2025-03-02T12:33:51.852282Z"
    }
   },
   "outputs": [],
   "source": [
    "df['month'] = df['date'].dt.month"
   ]
  },
  {
   "cell_type": "code",
   "execution_count": null,
   "id": "ae05845482fba4b6",
   "metadata": {
    "ExecuteTime": {
     "end_time": "2025-03-02T12:33:52.029503Z",
     "start_time": "2025-03-02T12:33:52.019402Z"
    }
   },
   "outputs": [
    {
     "name": "stdout",
     "output_type": "stream",
     "text": [
      "Index(['date', 'quarter', 'department', 'day', 'team', 'targeted_productivity',\n",
      "       'smv', 'over_time', 'incentive', 'idle_time', 'idle_men',\n",
      "       'no_of_style_change', 'no_of_workers', 'actual_productivity', 'month'],\n",
      "      dtype='object')\n"
     ]
    }
   ],
   "source": [
    "print(df.columns)"
   ]
  },
  {
   "cell_type": "markdown",
   "id": "fae67343d0116b08",
   "metadata": {},
   "source": [
    "## Handling Date & department column"
   ]
  },
  {
   "cell_type": "code",
   "execution_count": null,
   "id": "b8a4eeadcb61280a",
   "metadata": {
    "ExecuteTime": {
     "end_time": "2025-03-02T12:33:52.156977Z",
     "start_time": "2025-03-02T12:33:52.144349Z"
    }
   },
   "outputs": [],
   "source": [
    "df['department'] = df['department'].str.strip().str.lower()\n",
    "df['department'] = df['department'].replace({'finishing': 'finishing', 'sweing': 'sewing'})"
   ]
  },
  {
   "cell_type": "code",
   "execution_count": null,
   "id": "b9a4a7f24ea8ed04",
   "metadata": {
    "ExecuteTime": {
     "end_time": "2025-03-02T12:33:52.254964Z",
     "start_time": "2025-03-02T12:33:52.228864Z"
    }
   },
   "outputs": [
    {
     "name": "stdout",
     "output_type": "stream",
     "text": [
      "    quarter department       day  team  targeted_productivity    smv  \\\n",
      "0  Quarter1     sewing  Thursday     8                   0.80  26.16   \n",
      "1  Quarter1  finishing  Thursday     1                   0.75   3.94   \n",
      "2  Quarter1     sewing  Thursday    11                   0.80  11.41   \n",
      "3  Quarter1     sewing  Thursday    12                   0.80  11.41   \n",
      "4  Quarter1     sewing  Thursday     6                   0.80  25.90   \n",
      "\n",
      "   over_time  incentive  idle_time  idle_men  no_of_style_change  \\\n",
      "0       7080         98        0.0         0                   0   \n",
      "1        960          0        0.0         0                   0   \n",
      "2       3660         50        0.0         0                   0   \n",
      "3       3660         50        0.0         0                   0   \n",
      "4       1920         50        0.0         0                   0   \n",
      "\n",
      "   no_of_workers  actual_productivity  month  \n",
      "0           59.0             0.940725      1  \n",
      "1            8.0             0.886500      1  \n",
      "2           30.5             0.800570      1  \n",
      "3           30.5             0.800570      1  \n",
      "4           56.0             0.800382      1  \n"
     ]
    }
   ],
   "source": [
    "df['date'] = pd.to_datetime(df['date'], errors='coerce')\n",
    "df['month'] = df['date'].dt.month\n",
    "df = df.drop(columns=['date'])\n",
    "df['department'] = df['department'].str.strip().str.lower()\n",
    "df['department'] = df['department'].replace({'finishing  ': 'finishing', 'sweing': 'sewing'})\n",
    "print(df.head())"
   ]
  },
  {
   "cell_type": "markdown",
   "id": "1d4c1bcfd94e5d77",
   "metadata": {},
   "source": [
    "## Handling Categorical Values and Splitting data into train and test"
   ]
  },
  {
   "cell_type": "code",
   "execution_count": null,
   "id": "46095ebb873de27d",
   "metadata": {
    "ExecuteTime": {
     "end_time": "2025-03-02T12:33:52.322418Z",
     "start_time": "2025-03-02T12:33:52.298767Z"
    }
   },
   "outputs": [
    {
     "name": "stdout",
     "output_type": "stream",
     "text": [
      "   quarter  department  day  team  targeted_productivity    smv  over_time  \\\n",
      "0        0           1    3     8                   0.80  26.16       7080   \n",
      "1        0           0    3     1                   0.75   3.94        960   \n",
      "2        0           1    3    11                   0.80  11.41       3660   \n",
      "3        0           1    3    12                   0.80  11.41       3660   \n",
      "4        0           1    3     6                   0.80  25.90       1920   \n",
      "\n",
      "   incentive  idle_time  idle_men  no_of_style_change  no_of_workers  \\\n",
      "0         98        0.0         0                   0           59.0   \n",
      "1          0        0.0         0                   0            8.0   \n",
      "2         50        0.0         0                   0           30.5   \n",
      "3         50        0.0         0                   0           30.5   \n",
      "4         50        0.0         0                   0           56.0   \n",
      "\n",
      "   actual_productivity  month  \n",
      "0             0.940725      1  \n",
      "1             0.886500      1  \n",
      "2             0.800570      1  \n",
      "3             0.800570      1  \n",
      "4             0.800382      1  \n"
     ]
    }
   ],
   "source": [
    "class MultiColumnLabelEncoder:\n",
    "    def __init__(self, columns=None):\n",
    "        self.columns = columns\n",
    "        self.encoders = {}\n",
    "    def fit_transform(self, X):\n",
    "        if self.columns is not None:\n",
    "            for col in self.columns:\n",
    "                le = LabelEncoder()\n",
    "                X[col] = le.fit_transform(X[col])\n",
    "                self.encoders[col] = le\n",
    "        return X\n",
    "\n",
    "# Define categorical columns\n",
    "categorical_columns = ['quarter', 'department', 'day']\n",
    "# Encode categorical data\n",
    "encoder = MultiColumnLabelEncoder(columns=categorical_columns)\n",
    "df = encoder.fit_transform(df)\n",
    "print(df.head())\n",
    "# Splitting Data\n",
    "X = df.drop(columns=['actual_productivity'])\n",
    "y = df['actual_productivity']\n",
    "X_train, X_test, y_train, y_test = train_test_split(X.values, y, test_size=0.2, random_state=42)"
   ]
  },
  {
   "cell_type": "markdown",
   "id": "80e8f35a112c8731",
   "metadata": {},
   "source": [
    "## Model Building"
   ]
  },
  {
   "cell_type": "markdown",
   "id": "578b8e2a82602db6",
   "metadata": {},
   "source": [
    "### Linear Regression"
   ]
  },
  {
   "cell_type": "code",
   "execution_count": null,
   "id": "a67fdb9ff4fcb523",
   "metadata": {
    "ExecuteTime": {
     "end_time": "2025-03-02T12:33:52.416796Z",
     "start_time": "2025-03-02T12:33:52.390804Z"
    }
   },
   "outputs": [],
   "source": [
    "df.fillna(df.mean(), inplace=True)\n",
    "X = df.drop(columns=['actual_productivity'])\n",
    "y = df['actual_productivity']\n",
    "X_array = X.values\n",
    "X_train, X_test, y_train, y_test = train_test_split(X_array, y, test_size=0.2, random_state=42)\n",
    "model_lr = LinearRegression()\n",
    "model_lr.fit(X_train, y_train)\n",
    "pred_test = model_lr.predict(X_test)\n",
    "mae = mean_absolute_error(y_test, pred_test)\n",
    "mse = mean_squared_error(y_test, pred_test)\n",
    "r2 = r2_score(y_test, pred_test)"
   ]
  },
  {
   "cell_type": "markdown",
   "id": "4203aa1cb164d0bb",
   "metadata": {},
   "source": [
    "### RandomForestRegression"
   ]
  },
  {
   "cell_type": "code",
   "execution_count": null,
   "id": "579a612c5c19c42b",
   "metadata": {
    "ExecuteTime": {
     "end_time": "2025-03-02T12:33:53.356756Z",
     "start_time": "2025-03-02T12:33:52.666131Z"
    }
   },
   "outputs": [],
   "source": [
    "model_rf = RandomForestRegressor(n_estimators=100, random_state=42)\n",
    "model_rf.fit(X_train, y_train)\n",
    "pred = model_rf.predict(X_test)\n",
    "mae_rf = mean_absolute_error(y_test, pred)\n",
    "mse_rf = mean_squared_error(y_test, pred)\n",
    "r2_rf = r2_score(y_test, pred)"
   ]
  },
  {
   "cell_type": "markdown",
   "id": "373697e749411625",
   "metadata": {},
   "source": [
    "### Xgboost Model"
   ]
  },
  {
   "cell_type": "code",
   "execution_count": null,
   "id": "b87a5dc66671bc65",
   "metadata": {
    "ExecuteTime": {
     "end_time": "2025-03-02T12:33:53.616452Z",
     "start_time": "2025-03-02T12:33:53.489054Z"
    }
   },
   "outputs": [],
   "source": [
    "model_xgb = xgb.XGBRegressor(objective='reg:squarederror', n_estimators=100, random_state=42)\n",
    "model_xgb.fit(X_train, y_train)\n",
    "pred3 = model_xgb.predict(X_test)\n",
    "mae_xgb = mean_absolute_error(y_test, pred3)\n",
    "mse_xgb = mean_squared_error(y_test, pred3)\n",
    "r2_xgb = r2_score(y_test, pred3)"
   ]
  },
  {
   "cell_type": "markdown",
   "id": "ba82b4870c7f73a",
   "metadata": {},
   "source": [
    "## Compare These Model"
   ]
  },
  {
   "cell_type": "code",
   "execution_count": null,
   "id": "b0e3e5b78e0621f1",
   "metadata": {
    "ExecuteTime": {
     "end_time": "2025-03-02T12:33:53.682741Z",
     "start_time": "2025-03-02T12:33:53.672969Z"
    }
   },
   "outputs": [],
   "source": [
    "model_performance = {\n",
    "    \"Linear Regression\": {\"MAE\": mae, \"MSE\": mse, \"R² Score\": r2},\n",
    "    \"Random Forest\": {\"MAE\": mae, \"MSE\": mse, \"R² Score\": r2},\n",
    "    \"XGBoost\": {\"MAE\": mae, \"MSE\": mse, \"R² Score\": r2},\n",
    "}\n",
    "best_model_name = max(model_performance, key=lambda k: model_performance[k][\"R² Score\"])\n",
    "best_model = {\"Linear Regression\": model_lr, \"Random Forest\": model_rf, \"XGBoost\": model_xgb}[best_model_name]"
   ]
  },
  {
   "cell_type": "markdown",
   "id": "bdc88a9c15170f5b",
   "metadata": {},
   "source": [
    "## Save the best model as a .pkl file"
   ]
  },
  {
   "cell_type": "code",
   "execution_count": null,
   "id": "36a009f647f3f7b2",
   "metadata": {
    "ExecuteTime": {
     "end_time": "2025-03-02T12:33:53.763651Z",
     "start_time": "2025-03-02T12:33:53.745399Z"
    }
   },
   "outputs": [],
   "source": [
    "\n",
    "import pickle\n",
    "pred_xgb = model_xgb.predict(X_test)\n",
    "r2_xgb = r2_score(y_test, pred_xgb)\n",
    "# Save the best model\n",
    "model_filename = \"best_model.pkl\"\n",
    "with open(model_filename, 'wb') as file:\n",
    "    pickle.dump(model_xgb, file)"
   ]
  },
  {
   "cell_type": "code",
   "execution_count": null,
   "id": "114f97deb5223e13",
   "metadata": {
    "ExecuteTime": {
     "end_time": "2025-03-02T12:33:53.838110Z",
     "start_time": "2025-03-02T12:33:53.823214Z"
    }
   },
   "outputs": [
    {
     "name": "stdout",
     "output_type": "stream",
     "text": [
      "Model successfully loaded.\n"
     ]
    }
   ],
   "source": [
    "import pickle\n",
    "try:\n",
    "    model = pickle.load(open('best_model.pkl', 'rb'))\n",
    "    print(\"Model successfully loaded.\")\n",
    "except Exception as e:\n",
    "    print(f\"Error loading model: {e}\")"
   ]
  }
 ],
 "metadata": {
  "kernelspec": {
   "display_name": "Python 3",
   "language": "python",
   "name": "python3"
  },
  "language_info": {
   "codemirror_mode": {
    "name": "ipython",
    "version": 2
   },
   "file_extension": ".py",
   "mimetype": "text/x-python",
   "name": "python",
   "nbconvert_exporter": "python",
   "pygments_lexer": "ipython2",
   "version": "2.7.6"
  }
 },
 "nbformat": 4,
 "nbformat_minor": 5
}
